{
 "cells": [
  {
   "cell_type": "markdown",
   "id": "4e29f40a-437f-46cd-93c8-a1b233f76fa3",
   "metadata": {},
   "source": [
    "## Import Required Libraries"
   ]
  },
  {
   "cell_type": "code",
   "execution_count": 2,
   "id": "9e3e6eda-5b9a-4f16-ad0a-074040ae9f52",
   "metadata": {},
   "outputs": [],
   "source": [
    "\n",
    "import pandas as pd\n",
    "import openpyxl\n",
    "from sklearn.model_selection import train_test_split"
   ]
  },
  {
   "cell_type": "markdown",
   "id": "d029c787-efb1-469d-863c-b1fd71514c41",
   "metadata": {},
   "source": [
    "## Load dataset"
   ]
  },
  {
   "cell_type": "code",
   "execution_count": 4,
   "id": "560a00d7-895e-4dc3-844c-663e7c123566",
   "metadata": {},
   "outputs": [],
   "source": [
    "data= pd.read_excel(\"GenderPrediction (1) (1).xlsx\")"
   ]
  },
  {
   "cell_type": "code",
   "execution_count": 5,
   "id": "3a2dd363-d232-45f4-9626-5c78efd4d25e",
   "metadata": {},
   "outputs": [
    {
     "data": {
      "text/html": [
       "<div>\n",
       "<style scoped>\n",
       "    .dataframe tbody tr th:only-of-type {\n",
       "        vertical-align: middle;\n",
       "    }\n",
       "\n",
       "    .dataframe tbody tr th {\n",
       "        vertical-align: top;\n",
       "    }\n",
       "\n",
       "    .dataframe thead th {\n",
       "        text-align: right;\n",
       "    }\n",
       "</style>\n",
       "<table border=\"1\" class=\"dataframe\">\n",
       "  <thead>\n",
       "    <tr style=\"text-align: right;\">\n",
       "      <th></th>\n",
       "      <th>Name</th>\n",
       "      <th>Gender</th>\n",
       "      <th>LastLetter</th>\n",
       "      <th></th>\n",
       "      <th>.1</th>\n",
       "      <th>.2</th>\n",
       "      <th>.3</th>\n",
       "      <th>.4</th>\n",
       "      <th>.5</th>\n",
       "      <th>.6</th>\n",
       "      <th>...</th>\n",
       "      <th>.13</th>\n",
       "      <th>.14</th>\n",
       "      <th>.15</th>\n",
       "      <th>.16</th>\n",
       "      <th>.17</th>\n",
       "      <th>.18</th>\n",
       "      <th>.19</th>\n",
       "      <th>.20</th>\n",
       "      <th>.21</th>\n",
       "      <th>.22</th>\n",
       "    </tr>\n",
       "  </thead>\n",
       "  <tbody>\n",
       "    <tr>\n",
       "      <th>0</th>\n",
       "      <td>Ashutosh</td>\n",
       "      <td>Male</td>\n",
       "      <td>h</td>\n",
       "      <td>NaN</td>\n",
       "      <td>NaN</td>\n",
       "      <td>NaN</td>\n",
       "      <td>NaN</td>\n",
       "      <td>NaN</td>\n",
       "      <td>NaN</td>\n",
       "      <td>NaN</td>\n",
       "      <td>...</td>\n",
       "      <td>NaN</td>\n",
       "      <td>NaN</td>\n",
       "      <td>NaN</td>\n",
       "      <td>NaN</td>\n",
       "      <td>NaN</td>\n",
       "      <td>NaN</td>\n",
       "      <td>NaN</td>\n",
       "      <td>NaN</td>\n",
       "      <td>NaN</td>\n",
       "      <td>NaN</td>\n",
       "    </tr>\n",
       "    <tr>\n",
       "      <th>1</th>\n",
       "      <td>Meghamala</td>\n",
       "      <td>Female</td>\n",
       "      <td>a</td>\n",
       "      <td>NaN</td>\n",
       "      <td>NaN</td>\n",
       "      <td>NaN</td>\n",
       "      <td>NaN</td>\n",
       "      <td>NaN</td>\n",
       "      <td>NaN</td>\n",
       "      <td>NaN</td>\n",
       "      <td>...</td>\n",
       "      <td>NaN</td>\n",
       "      <td>NaN</td>\n",
       "      <td>NaN</td>\n",
       "      <td>NaN</td>\n",
       "      <td>NaN</td>\n",
       "      <td>NaN</td>\n",
       "      <td>NaN</td>\n",
       "      <td>NaN</td>\n",
       "      <td>NaN</td>\n",
       "      <td>NaN</td>\n",
       "    </tr>\n",
       "  </tbody>\n",
       "</table>\n",
       "<p>2 rows × 26 columns</p>\n",
       "</div>"
      ],
      "text/plain": [
       "        Name  Gender LastLetter       .1   .2   .3   .4   .5   .6  ...   .13  \\\n",
       "0   Ashutosh    Male          h NaN  NaN  NaN  NaN  NaN  NaN  NaN  ...   NaN   \n",
       "1  Meghamala  Female          a NaN  NaN  NaN  NaN  NaN  NaN  NaN  ...   NaN   \n",
       "\n",
       "    .14   .15   .16   .17   .18   .19   .20   .21   .22  \n",
       "0   NaN   NaN   NaN   NaN   NaN   NaN   NaN   NaN   NaN  \n",
       "1   NaN   NaN   NaN   NaN   NaN   NaN   NaN   NaN   NaN  \n",
       "\n",
       "[2 rows x 26 columns]"
      ]
     },
     "execution_count": 5,
     "metadata": {},
     "output_type": "execute_result"
    }
   ],
   "source": [
    "data.head(2)"
   ]
  },
  {
   "cell_type": "markdown",
   "id": "1fadb41f-50da-4d30-b861-956186ff0f48",
   "metadata": {},
   "source": [
    "## Keep only relevant columns"
   ]
  },
  {
   "cell_type": "code",
   "execution_count": 6,
   "id": "645fa534-d0db-4162-93c1-8c8e4e6bbb5a",
   "metadata": {},
   "outputs": [],
   "source": [
    "data=data[['Name','Gender','LastLetter']]"
   ]
  },
  {
   "cell_type": "code",
   "execution_count": 7,
   "id": "5973f202-d724-426b-b9fe-ae06fc2e5e4b",
   "metadata": {},
   "outputs": [],
   "source": [
    "data=data.drop(data.tail(2).index)"
   ]
  },
  {
   "cell_type": "code",
   "execution_count": 13,
   "id": "5063bbfc-688b-44e5-9d5e-658822d3c26e",
   "metadata": {},
   "outputs": [
    {
     "data": {
      "text/plain": [
       "Name          0\n",
       "Gender        0\n",
       "LastLetter    0\n",
       "dtype: int64"
      ]
     },
     "execution_count": 13,
     "metadata": {},
     "output_type": "execute_result"
    }
   ],
   "source": [
    "\n",
    "data.isna().sum()"
   ]
  },
  {
   "cell_type": "markdown",
   "id": "e23dcf5d-78e6-4142-9b6e-8768a7e0583a",
   "metadata": {},
   "source": [
    "## Split the Dataset (Stratified Sampling)"
   ]
  },
  {
   "cell_type": "code",
   "execution_count": 9,
   "id": "0b614f64-cbd6-437f-9266-d22a5ac849bf",
   "metadata": {},
   "outputs": [],
   "source": [
    "train_data,test_data= train_test_split(data,test_size=0.3,random_state =42,stratify=data['Gender'])"
   ]
  },
  {
   "cell_type": "markdown",
   "id": "0aa5f4e4-38d4-4a19-b113-e16b12142b1f",
   "metadata": {},
   "source": [
    "## Check the distribution in both sets"
   ]
  },
  {
   "cell_type": "code",
   "execution_count": 11,
   "id": "e39f6451-9842-48ac-b55a-438783c892af",
   "metadata": {},
   "outputs": [
    {
     "name": "stdout",
     "output_type": "stream",
     "text": [
      "Gender\n",
      "Male      1124\n",
      "Female     975\n",
      "Name: count, dtype: int64\n"
     ]
    }
   ],
   "source": [
    "print(train_data['Gender'].value_counts())"
   ]
  },
  {
   "cell_type": "code",
   "execution_count": 15,
   "id": "6b3cca45-e32f-417b-8225-a6f55c92d5b5",
   "metadata": {},
   "outputs": [
    {
     "name": "stdout",
     "output_type": "stream",
     "text": [
      "Gender\n",
      "Male      482\n",
      "Female    418\n",
      "Name: count, dtype: int64\n"
     ]
    }
   ],
   "source": [
    "print(test_data['Gender'].value_counts())"
   ]
  },
  {
   "cell_type": "markdown",
   "id": "a467a62d-067c-4982-ac42-1eb0b5b87181",
   "metadata": {},
   "source": [
    "## Apply Bayes' Theorem on Training Data"
   ]
  },
  {
   "cell_type": "code",
   "execution_count": 20,
   "id": "8ba1c177-a91a-4bee-9e8c-3c4beb29e2dd",
   "metadata": {},
   "outputs": [],
   "source": [
    "# Prior probability: P(Gender)\n",
    "P_Gender= train_data[\"Gender\"].value_counts(normalize=True)\n",
    "\n",
    "# Likelihood: P(LastLetter | Gender)\n",
    "likelihood=train_data.groupby(['LastLetter','Gender']).size().unstack(fill_value=0)\n",
    "likelihood=likelihood.div(likelihood.sum(axis=1),axis=0)\n"
   ]
  },
  {
   "cell_type": "markdown",
   "id": "d438830d-2744-4499-a32c-73e41fb108fe",
   "metadata": {},
   "source": [
    "## Gender Prediction Function"
   ]
  },
  {
   "cell_type": "code",
   "execution_count": 39,
   "id": "8785b10c-1ba1-431f-88fb-0fc0aa7b29d1",
   "metadata": {},
   "outputs": [],
   "source": [
    "def predict_gender(name):\n",
    "    last_letter = name[-1].lower()  # Extract last letter\n",
    "    \n",
    "    # Check if last letter exists in the index of likelihood DataFrame\n",
    "    if last_letter not in likelihood.index.tolist():\n",
    "        return \"Unknown\"  # Handle unseen letters\n",
    "    \n",
    "    # Apply Bayes' theorem\n",
    "    posterior = likelihood.loc[last_letter] * P_Gender\n",
    "    \n",
    "    return posterior.idxmax()  # Predict gender with highest probability\n"
   ]
  },
  {
   "cell_type": "code",
   "execution_count": 43,
   "id": "c57474b7-db2a-47dc-8604-161d29a6f276",
   "metadata": {},
   "outputs": [
    {
     "name": "stdout",
     "output_type": "stream",
     "text": [
      "Female\n",
      "Male\n"
     ]
    }
   ],
   "source": [
    "# Test the function\n",
    "print(predict_gender(\"Sonia\"))\n",
    "print(predict_gender(\"John\"))"
   ]
  },
  {
   "cell_type": "markdown",
   "id": "a2997a34-5e91-4460-ab93-28b471fa0bf0",
   "metadata": {},
   "source": [
    "## Evaluate the Model"
   ]
  },
  {
   "cell_type": "code",
   "execution_count": 46,
   "id": "ece955ea-bf53-49fa-ad0e-164fc1acf02c",
   "metadata": {},
   "outputs": [
    {
     "name": "stdout",
     "output_type": "stream",
     "text": [
      "Accuracy : 82.89%\n"
     ]
    }
   ],
   "source": [
    "# Predict on test set\n",
    "test_data[\"Predicted_Gender\"] = test_data[\"Name\"].apply(predict_gender)\n",
    "\n",
    "# Accuracy calculation\n",
    "accuracy=(test_data['Gender']==test_data['Predicted_Gender']).mean()\n",
    "print(f'Accuracy : {accuracy*100:.2f}%')\n"
   ]
  },
  {
   "cell_type": "code",
   "execution_count": null,
   "id": "9e89806b-c259-47c8-aada-075793123c86",
   "metadata": {},
   "outputs": [],
   "source": []
  },
  {
   "cell_type": "code",
   "execution_count": null,
   "id": "52a580a4-48eb-4e5f-9abc-dc3113456aa3",
   "metadata": {},
   "outputs": [],
   "source": []
  }
 ],
 "metadata": {
  "kernelspec": {
   "display_name": "Python 3 (ipykernel)",
   "language": "python",
   "name": "python3"
  },
  "language_info": {
   "codemirror_mode": {
    "name": "ipython",
    "version": 3
   },
   "file_extension": ".py",
   "mimetype": "text/x-python",
   "name": "python",
   "nbconvert_exporter": "python",
   "pygments_lexer": "ipython3",
   "version": "3.12.6"
  }
 },
 "nbformat": 4,
 "nbformat_minor": 5
}
